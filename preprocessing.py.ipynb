{
 "cells": [
  {
   "cell_type": "code",
   "execution_count": 2,
   "metadata": {
    "collapsed": true
   },
   "outputs": [],
   "source": [
    "import pandas as pd\n",
    "df = pd.read_csv('/home/vamsi/Documents/loan_defaulter_challenge/train_indessa.csv')"
   ]
  },
  {
   "cell_type": "code",
   "execution_count": 6,
   "metadata": {
    "collapsed": false
   },
   "outputs": [
    {
     "data": {
      "text/plain": [
       "array(['member_id', 'loan_amnt', 'funded_amnt', 'funded_amnt_inv', 'term',\n",
       "       'batch_enrolled', 'int_rate', 'grade', 'sub_grade', 'emp_title',\n",
       "       'emp_length', 'home_ownership', 'annual_inc', 'verification_status',\n",
       "       'pymnt_plan', 'desc', 'purpose', 'title', 'zip_code', 'addr_state',\n",
       "       'dti', 'delinq_2yrs', 'inq_last_6mths', 'mths_since_last_delinq',\n",
       "       'mths_since_last_record', 'open_acc', 'pub_rec', 'revol_bal',\n",
       "       'revol_util', 'total_acc', 'initial_list_status', 'total_rec_int',\n",
       "       'total_rec_late_fee', 'recoveries', 'collection_recovery_fee',\n",
       "       'collections_12_mths_ex_med', 'mths_since_last_major_derog',\n",
       "       'application_type', 'verification_status_joint', 'last_week_pay',\n",
       "       'acc_now_delinq', 'tot_coll_amt', 'tot_cur_bal', 'total_rev_hi_lim',\n",
       "       'loan_status'], dtype=object)"
      ]
     },
     "execution_count": 6,
     "metadata": {},
     "output_type": "execute_result"
    }
   ],
   "source": [
    "df.columns.values"
   ]
  },
  {
   "cell_type": "code",
   "execution_count": 8,
   "metadata": {
    "collapsed": false
   },
   "outputs": [],
   "source": [
    "def cleaning(df):\n",
    "    df['open/total_acc'] = df['open_acc'] / df['total_acc']\n",
    "    df['zip_addr_code'] = df['zip_code'] + df['addr_state']\n",
    "    df['zip_addr_code'] = df['zip_addr_code'].str.replace(r'xx', '').astype('object')\n",
    "    df_train = df[['member_id','loan_amnt','term','int_rate','grade','emp_length','home_ownership','annual_inc','verification_status','purpose','zip_addr_code','dti','delinq_2yrs','open/total_acc','pub_rec','revol_bal','revol_util','mths_since_last_major_derog','tot_coll_amt','tot_cur_bal','total_rev_hi_lim','loan_status']]\n",
    "    return df_train\n",
    "if __name__ == '__main__':\n",
    "    df_train_noise = cleaning(df)"
   ]
  },
  {
   "cell_type": "code",
   "execution_count": 9,
   "metadata": {
    "collapsed": false
   },
   "outputs": [
    {
     "data": {
      "text/plain": [
       "[['annual_inc', 3],\n",
       " ['delinq_2yrs', 16],\n",
       " ['open/total_acc', 16],\n",
       " ['pub_rec', 16],\n",
       " ['revol_util', 287],\n",
       " ['mths_since_last_major_derog', 399448],\n",
       " ['tot_coll_amt', 42004],\n",
       " ['tot_cur_bal', 42004],\n",
       " ['total_rev_hi_lim', 42004]]"
      ]
     },
     "execution_count": 9,
     "metadata": {},
     "output_type": "execute_result"
    }
   ],
   "source": [
    "null_features = []\n",
    "for each_column_name in list(df_train_noise.columns.values):\n",
    "    if df_train_noise[each_column_name].isnull().values.any():\n",
    "        null_features.append([each_column_name,df_train_noise[each_column_name].isnull().sum()])\n",
    "null_features"
   ]
  },
  {
   "cell_type": "code",
   "execution_count": 10,
   "metadata": {
    "collapsed": false
   },
   "outputs": [
    {
     "name": "stderr",
     "output_type": "stream",
     "text": [
      "/home/vamsi/anaconda3/lib/python3.5/site-packages/pandas/core/generic.py:3191: SettingWithCopyWarning: \n",
      "A value is trying to be set on a copy of a slice from a DataFrame\n",
      "\n",
      "See the caveats in the documentation: http://pandas.pydata.org/pandas-docs/stable/indexing.html#indexing-view-versus-copy\n",
      "  self._update_inplace(new_data)\n"
     ]
    }
   ],
   "source": [
    "from scipy.stats import mode\n",
    "def filling_null_values(df,null_features):\n",
    "    for each_feature in range(0,len(null_features)-3):\n",
    "        df[null_features[each_feature][0]].fillna(-1,inplace=True)\n",
    "    for each_element in range(6,len(null_features)):\n",
    "        df[null_features[each_element][0]].fillna(mode(df[null_features[each_element][0]]).mode[0], inplace=True)\n",
    "    return df\n",
    "if __name__ == '__main__':\n",
    "    df_free_from_null = filling_null_values(df_train_noise,null_features)"
   ]
  },
  {
   "cell_type": "code",
   "execution_count": 11,
   "metadata": {
    "collapsed": false
   },
   "outputs": [
    {
     "data": {
      "text/plain": [
       "[]"
      ]
     },
     "execution_count": 11,
     "metadata": {},
     "output_type": "execute_result"
    }
   ],
   "source": [
    "null = []\n",
    "for each_column_name in list(df_free_from_null.columns.values):\n",
    "    if df_free_from_null[each_column_name].isnull().values.any():\n",
    "        null.append([each_column_name,df_free_from_null[each_column_name].isnull().sum()])\n",
    "null"
   ]
  },
  {
   "cell_type": "code",
   "execution_count": 12,
   "metadata": {
    "collapsed": true
   },
   "outputs": [],
   "source": [
    "df_free_from_null.to_csv('train_data_categorical.csv',sep=',',index=False)\n"
   ]
  },
  {
   "cell_type": "code",
   "execution_count": 7,
   "metadata": {
    "collapsed": false
   },
   "outputs": [
    {
     "data": {
      "text/plain": [
       "['term',\n",
       " 'grade',\n",
       " 'emp_length',\n",
       " 'home_ownership',\n",
       " 'verification_status',\n",
       " 'purpose',\n",
       " 'zip_addr_code']"
      ]
     },
     "execution_count": 7,
     "metadata": {},
     "output_type": "execute_result"
    }
   ],
   "source": [
    "import numpy as np\n",
    "categorical_variables_list = []\n",
    "for each_variable in list(df_free_from_null.columns.values):\n",
    "    if df_free_from_null[each_variable].dtype == np.object:\n",
    "        categorical_variables_list.append(each_variable)\n",
    "categorical_variables_list"
   ]
  },
  {
   "cell_type": "code",
   "execution_count": 8,
   "metadata": {
    "collapsed": false
   },
   "outputs": [
    {
     "name": "stderr",
     "output_type": "stream",
     "text": [
      "/home/vamsi/anaconda3/lib/python3.5/site-packages/ipykernel/__main__.py:4: SettingWithCopyWarning: \n",
      "A value is trying to be set on a copy of a slice from a DataFrame.\n",
      "Try using .loc[row_indexer,col_indexer] = value instead\n",
      "\n",
      "See the caveats in the documentation: http://pandas.pydata.org/pandas-docs/stable/indexing.html#indexing-view-versus-copy\n"
     ]
    },
    {
     "data": {
      "text/plain": [
       "member_id                        int64\n",
       "loan_amnt                        int64\n",
       "term                             int64\n",
       "int_rate                       float64\n",
       "grade                            int64\n",
       "emp_length                       int64\n",
       "home_ownership                   int64\n",
       "annual_inc                     float64\n",
       "verification_status              int64\n",
       "purpose                          int64\n",
       "zip_addr_code                    int64\n",
       "dti                            float64\n",
       "delinq_2yrs                    float64\n",
       "open/total_acc                 float64\n",
       "pub_rec                        float64\n",
       "revol_bal                        int64\n",
       "revol_util                     float64\n",
       "mths_since_last_major_derog    float64\n",
       "tot_coll_amt                   float64\n",
       "tot_cur_bal                    float64\n",
       "total_rev_hi_lim               float64\n",
       "dtype: object"
      ]
     },
     "execution_count": 8,
     "metadata": {},
     "output_type": "execute_result"
    }
   ],
   "source": [
    "from sklearn.preprocessing import LabelEncoder\n",
    "le = LabelEncoder()\n",
    "for each_feature in categorical_variables_list:\n",
    "    df_free_from_null[each_feature] = le.fit_transform(df_free_from_null[each_feature])\n",
    "df_free_from_null.dtypes"
   ]
  },
  {
   "cell_type": "code",
   "execution_count": 10,
   "metadata": {
    "collapsed": true
   },
   "outputs": [],
   "source": [
    "df_free_from_null.to_csv('test_data_clean.csv',sep=',',index=False)\n"
   ]
  }
 ],
 "metadata": {
  "anaconda-cloud": {},
  "kernelspec": {
   "display_name": "Python [conda root]",
   "language": "python",
   "name": "conda-root-py"
  },
  "language_info": {
   "codemirror_mode": {
    "name": "ipython",
    "version": 3
   },
   "file_extension": ".py",
   "mimetype": "text/x-python",
   "name": "python",
   "nbconvert_exporter": "python",
   "pygments_lexer": "ipython3",
   "version": "3.5.2"
  }
 },
 "nbformat": 4,
 "nbformat_minor": 1
}
