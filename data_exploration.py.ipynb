{
 "cells": [
  {
   "cell_type": "code",
   "execution_count": 50,
   "metadata": {
    "collapsed": false
   },
   "outputs": [],
   "source": [
    "import pandas as pd\n",
    "df = pd.read_csv('/home/vamsi/Documents/loan_defaulter_challenge/train_indessa.csv')\n"
   ]
  },
  {
   "cell_type": "code",
   "execution_count": 97,
   "metadata": {
    "collapsed": false
   },
   "outputs": [],
   "source": [
    "def cleaning(df):\n",
    "    df['open/total_acc'] = df['open_acc'] / df['total_acc']\n",
    "    df['zip_addr_code'] = df['zip_code'] + df['addr_state']\n",
    "    df['zip_addr_code'] = df['zip_addr_code'].str.replace(r'xx', '').astype('object')\n",
    "    df_train = df[['member_id','loan_amnt','term','int_rate','grade','emp_length','home_ownership','annual_inc','verification_status','purpose','zip_addr_code','dti','delinq_2yrs','open/total_acc','pub_rec','revol_bal','revol_util','mths_since_last_major_derog','tot_coll_amt','tot_cur_bal','total_rev_hi_lim','loan_status']]\n",
    "    return df_train\n",
    "if __name__ == '__main__':\n",
    "    df_train_noise = cleaning(df)"
   ]
  },
  {
   "cell_type": "code",
   "execution_count": 99,
   "metadata": {
    "collapsed": false
   },
   "outputs": [
    {
     "data": {
      "text/plain": [
       "22"
      ]
     },
     "execution_count": 99,
     "metadata": {},
     "output_type": "execute_result"
    }
   ],
   "source": [
    "\n",
    "len(list(df_train_noise.columns.values))"
   ]
  },
  {
   "cell_type": "code",
   "execution_count": 103,
   "metadata": {
    "collapsed": false
   },
   "outputs": [
    {
     "data": {
      "text/plain": [
       "[['annual_inc', 3],\n",
       " ['delinq_2yrs', 16],\n",
       " ['open/total_acc', 16],\n",
       " ['pub_rec', 16],\n",
       " ['revol_util', 287],\n",
       " ['mths_since_last_major_derog', 399448],\n",
       " ['tot_coll_amt', 42004],\n",
       " ['tot_cur_bal', 42004],\n",
       " ['total_rev_hi_lim', 42004]]"
      ]
     },
     "execution_count": 103,
     "metadata": {},
     "output_type": "execute_result"
    }
   ],
   "source": [
    "null_features = []\n",
    "for each_column_name in list(df_train_noise.columns.values):\n",
    "    if df_train_noise[each_column_name].isnull().values.any():\n",
    "        null_features.append([each_column_name,df_train_noise[each_column_name].isnull().sum()])\n",
    "null_features"
   ]
  },
  {
   "cell_type": "code",
   "execution_count": 110,
   "metadata": {
    "collapsed": false
   },
   "outputs": [
    {
     "name": "stderr",
     "output_type": "stream",
     "text": [
      "/home/vamsi/anaconda3/lib/python3.5/site-packages/pandas/core/generic.py:3191: SettingWithCopyWarning: \n",
      "A value is trying to be set on a copy of a slice from a DataFrame\n",
      "\n",
      "See the caveats in the documentation: http://pandas.pydata.org/pandas-docs/stable/indexing.html#indexing-view-versus-copy\n",
      "  self._update_inplace(new_data)\n"
     ]
    }
   ],
   "source": [
    "from scipy.stats import mode\n",
    "def filling_null_values(df,null_features):\n",
    "    for each_feature in range(0,len(null_features)-3):\n",
    "        df[null_features[each_feature][0]].fillna(-1,inplace=True)\n",
    "    for each_element in range(6,len(null_features)):\n",
    "        df[null_features[each_element][0]].fillna(mode(df[null_features[each_element][0]]).mode[0], inplace=True)\n",
    "    return df\n",
    "if __name__ == '__main__':\n",
    "    df_free_from_null = filling_null_values(df_train_noise,null_features)"
   ]
  },
  {
   "cell_type": "code",
   "execution_count": 111,
   "metadata": {
    "collapsed": false
   },
   "outputs": [
    {
     "data": {
      "text/plain": [
       "[]"
      ]
     },
     "execution_count": 111,
     "metadata": {},
     "output_type": "execute_result"
    }
   ],
   "source": [
    "null = []\n",
    "for each_column_name in list(df_free_from_null.columns.values):\n",
    "    if df_free_from_null[each_column_name].isnull().values.any():\n",
    "        null.append([each_column_name,df_free_from_null[each_column_name].isnull().sum()])\n",
    "null"
   ]
  },
  {
   "cell_type": "code",
   "execution_count": 116,
   "metadata": {
    "collapsed": false
   },
   "outputs": [
    {
     "data": {
      "text/plain": [
       "[]"
      ]
     },
     "execution_count": 116,
     "metadata": {},
     "output_type": "execute_result"
    }
   ],
   "source": [
    "white_space = []\n",
    "for each_value in list(df_free_from_null.columns.values):\n",
    "    if ' ' in df_free_from_null[each_value].value_counts():\n",
    "        white_space.append(each_value)\n",
    "white_space"
   ]
  },
  {
   "cell_type": "code",
   "execution_count": 152,
   "metadata": {
    "collapsed": false
   },
   "outputs": [
    {
     "data": {
      "text/plain": [
       "['term',\n",
       " 'grade',\n",
       " 'emp_length',\n",
       " 'home_ownership',\n",
       " 'verification_status',\n",
       " 'purpose',\n",
       " 'zip_addr_code']"
      ]
     },
     "execution_count": 152,
     "metadata": {},
     "output_type": "execute_result"
    }
   ],
   "source": [
    "import numpy as np\n",
    "categorical_variables_list = []\n",
    "for each_variable in list(df_free_from_null.columns.values):\n",
    "    if df_free_from_null[each_variable].dtype == np.object:\n",
    "        categorical_variables_list.append(each_variable)\n",
    "categorical_variables_list"
   ]
  },
  {
   "cell_type": "code",
   "execution_count": 153,
   "metadata": {
    "collapsed": false
   },
   "outputs": [
    {
     "name": "stderr",
     "output_type": "stream",
     "text": [
      "/home/vamsi/anaconda3/lib/python3.5/site-packages/ipykernel/__main__.py:4: SettingWithCopyWarning: \n",
      "A value is trying to be set on a copy of a slice from a DataFrame.\n",
      "Try using .loc[row_indexer,col_indexer] = value instead\n",
      "\n",
      "See the caveats in the documentation: http://pandas.pydata.org/pandas-docs/stable/indexing.html#indexing-view-versus-copy\n"
     ]
    },
    {
     "data": {
      "text/plain": [
       "member_id                        int64\n",
       "loan_amnt                        int64\n",
       "term                             int64\n",
       "int_rate                       float64\n",
       "grade                            int64\n",
       "emp_length                       int64\n",
       "home_ownership                   int64\n",
       "annual_inc                     float64\n",
       "verification_status              int64\n",
       "purpose                          int64\n",
       "zip_addr_code                    int64\n",
       "dti                            float64\n",
       "delinq_2yrs                    float64\n",
       "open/total_acc                 float64\n",
       "pub_rec                        float64\n",
       "revol_bal                      float64\n",
       "revol_util                     float64\n",
       "mths_since_last_major_derog    float64\n",
       "tot_coll_amt                   float64\n",
       "tot_cur_bal                    float64\n",
       "total_rev_hi_lim               float64\n",
       "loan_status                      int64\n",
       "dtype: object"
      ]
     },
     "execution_count": 153,
     "metadata": {},
     "output_type": "execute_result"
    }
   ],
   "source": [
    "from sklearn.preprocessing import LabelEncoder\n",
    "le = LabelEncoder()\n",
    "for each_feature in categorical_variables_list:\n",
    "    df_free_from_null[each_feature] = le.fit_transform(df_free_from_null[each_feature])\n",
    "df_free_from_null.dtypes"
   ]
  },
  {
   "cell_type": "code",
   "execution_count": 158,
   "metadata": {
    "collapsed": false
   },
   "outputs": [],
   "source": [
    "df_free_from_null.to_csv('train_data_clean.csv',sep=',',index=False)"
   ]
  },
  {
   "cell_type": "code",
   "execution_count": 40,
   "metadata": {
    "collapsed": false
   },
   "outputs": [],
   "source": [
    "df_4 = df['batch_enrolled']\n",
    "df.batch_enrolled.replace([' '],[1],inplace=True)\n"
   ]
  },
  {
   "cell_type": "code",
   "execution_count": 15,
   "metadata": {
    "collapsed": false
   },
   "outputs": [],
   "source": [
    "df['delinq_2yrs'].value_counts()\n",
    "df['delinq_2yrs'].fillna(0,inplace=True)"
   ]
  },
  {
   "cell_type": "code",
   "execution_count": 16,
   "metadata": {
    "collapsed": false
   },
   "outputs": [
    {
     "data": {
      "text/plain": [
       "{False}"
      ]
     },
     "execution_count": 16,
     "metadata": {},
     "output_type": "execute_result"
    }
   ],
   "source": [
    "set(pd.isnull(df['delinq_2yrs']))"
   ]
  },
  {
   "cell_type": "code",
   "execution_count": 20,
   "metadata": {
    "collapsed": false
   },
   "outputs": [
    {
     "data": {
      "text/plain": [
       "False"
      ]
     },
     "execution_count": 20,
     "metadata": {},
     "output_type": "execute_result"
    }
   ],
   "source": [
    "df['delinq_2yrs'].isnull().values.any()"
   ]
  },
  {
   "cell_type": "code",
   "execution_count": 3,
   "metadata": {
    "collapsed": false
   },
   "outputs": [
    {
     "data": {
      "text/plain": [
       "member_id                           0\n",
       "loan_amnt                           0\n",
       "funded_amnt                         0\n",
       "funded_amnt_inv                     0\n",
       "term                                0\n",
       "batch_enrolled                  85149\n",
       "int_rate                            0\n",
       "grade                               0\n",
       "sub_grade                           0\n",
       "emp_title                       30830\n",
       "emp_length                          0\n",
       "home_ownership                      0\n",
       "annual_inc                          3\n",
       "verification_status                 0\n",
       "pymnt_plan                          0\n",
       "desc                           456829\n",
       "purpose                             0\n",
       "title                              90\n",
       "zip_code                            0\n",
       "addr_state                          0\n",
       "dti                                 0\n",
       "delinq_2yrs                        16\n",
       "inq_last_6mths                     16\n",
       "mths_since_last_delinq         272554\n",
       "mths_since_last_record         450305\n",
       "open_acc                           16\n",
       "pub_rec                            16\n",
       "revol_bal                           0\n",
       "revol_util                        287\n",
       "total_acc                          16\n",
       "initial_list_status                 0\n",
       "total_rec_int                       0\n",
       "total_rec_late_fee                  0\n",
       "recoveries                          0\n",
       "collection_recovery_fee             0\n",
       "collections_12_mths_ex_med         95\n",
       "mths_since_last_major_derog    399448\n",
       "application_type                    0\n",
       "verification_status_joint      532123\n",
       "last_week_pay                       0\n",
       "acc_now_delinq                     16\n",
       "tot_coll_amt                    42004\n",
       "tot_cur_bal                     42004\n",
       "total_rev_hi_lim                42004\n",
       "loan_status                         0\n",
       "dtype: int64"
      ]
     },
     "execution_count": 3,
     "metadata": {},
     "output_type": "execute_result"
    }
   ],
   "source": [
    " df.apply(lambda x: sum(x.isnull()),axis=0) "
   ]
  }
 ],
 "metadata": {
  "anaconda-cloud": {},
  "kernelspec": {
   "display_name": "Python [conda root]",
   "language": "python",
   "name": "conda-root-py"
  },
  "language_info": {
   "codemirror_mode": {
    "name": "ipython",
    "version": 3
   },
   "file_extension": ".py",
   "mimetype": "text/x-python",
   "name": "python",
   "nbconvert_exporter": "python",
   "pygments_lexer": "ipython3",
   "version": "3.5.2"
  }
 },
 "nbformat": 4,
 "nbformat_minor": 1
}
